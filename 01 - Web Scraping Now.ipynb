{
 "cells": [
  {
   "cell_type": "markdown",
   "metadata": {
    "collapsed": true
   },
   "source": [
    "## Web Scraping Now!\n",
    "\n",
    "As a prelude to later notebooks related to natural language processing on lyricism of Arcade Fire's album Everything Now, basic web scraping is demonstrated to collect the data and text. The objective of this notebook is to layout a basic framework for scraping and cleaning text from the internet.\n",
    "\n",
    "### Writing the Dictionary\n",
    "\n",
    "Using the website https://songmeanings.com/, lyrics from Arcade Fire's album Everything Now are scraped.\n",
    "\n",
    "The first task is to create a dictionary data structure with keys (the song names) that will eventually act as file names along with their values (URL ID) corresponding to their unique page based on what was identified on the album page https://songmeanings.com/albums/view/tracks/282088/"
   ]
  },
  {
   "cell_type": "code",
   "execution_count": 6,
   "metadata": {
    "collapsed": true
   },
   "outputs": [],
   "source": [
    "# Import the libraries we will use\n",
    "from bs4 import BeautifulSoup  # Front-end web parsing library\n",
    "import requests  # Requests is the only Non-GMO HTTP library for Python, safe for human consumption.\n",
    "import re  # Regular expression parsing"
   ]
  },
  {
   "cell_type": "code",
   "execution_count": 2,
   "metadata": {
    "collapsed": true
   },
   "outputs": [],
   "source": [
    "# Dictionary with each song and corresponding URL id on songmeanings.com\n",
    "everythingnow_dict = {\n",
    "    \"Everything_Now_1\": 3530822107859552543,\n",
    "    \"Everything_Now\": 3530822107859549671,\n",
    "    \"Signs_of_Life\": 3530822107859552545,\n",
    "    \"Creature_Comfort.txt\": 3530822107859549890,\n",
    "    \"Peter_Pan\": 3530822107859552546,\n",
    "    \"Chemistry\": 3530822107859552547,\n",
    "    \"Infinite_Content\": 3530822107859552548,\n",
    "    \"Infinite_Content_2\": 3530822107859552549,\n",
    "    \"Electric_Blue\": 3530822107859552544,\n",
    "    \"Good_God_Damn\": 3530822107859552550,\n",
    "    \"Put_Your_Money_On_Me\": 3530822107859552551,\n",
    "    \"We_Dont_Deserve_Love\": 3530822107859552552,\n",
    "    \"Everything_Now_2\": 3530822107859552553\n",
    "}"
   ]
  },
  {
   "cell_type": "markdown",
   "metadata": {},
   "source": [
    "### Scrape Baby, Scrape\n",
    "\n",
    "Looping through each key (song) and corresponding value (unqiue song ID), songs are requested from the internet.\n",
    "\n",
    "Searching through divisions of the webpage, \"holder lyric-box\" was identified through manual exploration using Google Chrome's Developer Tools as the class where the lyrics are contained. This class could also be identified directly from the website's source.\n",
    "\n",
    "Using the library BeautfulSoup, the html parser options is used to parse out any HTML in the corresponding class."
   ]
  },
  {
   "cell_type": "code",
   "execution_count": 3,
   "metadata": {
    "collapsed": true
   },
   "outputs": [],
   "source": [
    "# Loop through each song and corresponding url id\n",
    "for song in everythingnow_dict:\n",
    "\n",
    "    # HTML parser using beautiful soup\n",
    "    listingurl = \"https://songmeanings.com/songs/view/%s/\" % everythingnow_dict[song]\n",
    "    response = requests.get(listingurl)\n",
    "    soup = BeautifulSoup(response.text, \"html.parser\")\n",
    "    lyrics = []\n",
    "\n",
    "    # Search for class that contains lyrics\n",
    "    for rows in soup.find_all(\"div\", class_=\"holder lyric-box\"):\n",
    "        lyrics.append(rows.get_text())\n",
    "\n",
    "    # Write scraped lyrics to text file\n",
    "    song_file = open('./Scraped_Lyrics/%s.txt' % song, 'w')\n",
    "    for lyric in lyrics:\n",
    "        song_file.write(\"%s\\n\" % lyric)\n"
   ]
  },
  {
   "cell_type": "markdown",
   "metadata": {},
   "source": [
    "### \"Clean up clean up, everybody do your share.\" -Barney\n",
    "\n",
    "After downloading the lyrics of each song in the album, some clean up is requried to get rid of extraneous text, HTML, and Javascript artifacts in the raw downloaded data scrape.\n",
    "\n",
    "Parsing through each song, regular expressions (RegEx) are used to remove consecutive new lines and completely remove any tabs. Python's string maniupultion replace function is used to remove additional irrelevant strings that were scraped.\n",
    "\n",
    "The cleaned lyrics are saved in a seperate directory for safe keeping."
   ]
  },
  {
   "cell_type": "code",
   "execution_count": 5,
   "metadata": {
    "collapsed": false
   },
   "outputs": [],
   "source": [
    "# Loop through each song and corresponding url id\n",
    "for song in everythingnow_dict:\n",
    "    with open('./Scraped_Lyrics/%s.txt' % song) as f:\n",
    "        lyrics = f.readlines()\n",
    "        cleaned_lyrics = []\n",
    "        for line in lyrics:\n",
    "\n",
    "            # RegEx to remove consercutive new lines and tabs\n",
    "            line = re.sub(r'\\n+', '\\n', line)\n",
    "            line = re.sub(r'\\t+', '', line)\n",
    "\n",
    "            # String replace to remove phrases parsed but not part of lyrics\n",
    "            line = line.replace('Add Video', '')\n",
    "            line = line.replace('Edit Wiki', '')\n",
    "            line = line.replace('Add Video', '')\n",
    "            line = line.replace('Edit Lyrics', '')\n",
    "            line = line.replace(\" eval(ez_write_tag([[300,250],'songmeanings_com-medrectangle-4','ezslot_4']));\", '')\n",
    "            line = line.replace(\" eval(ez_write_tag([[300,250],'songmeanings_com-medrectangle-4','ezslot_5']));\", '')\n",
    "\n",
    "            # Append cleaned line\n",
    "            cleaned_lyrics.append(line)\n",
    "\n",
    "        # Append cleaned lyrics into new file in seperate directory\n",
    "        song_file = open('./Cleaned_Lyrics/%s.txt' % song, 'w')\n",
    "        for lyric in cleaned_lyrics:\n",
    "            song_file.write(\"%s\\n\" % lyric)"
   ]
  }
 ],
 "metadata": {
  "anaconda-cloud": {},
  "kernelspec": {
   "display_name": "Python [conda env:python3]",
   "language": "python",
   "name": "conda-env-python3-py"
  },
  "language_info": {
   "codemirror_mode": {
    "name": "ipython",
    "version": 3
   },
   "file_extension": ".py",
   "mimetype": "text/x-python",
   "name": "python",
   "nbconvert_exporter": "python",
   "pygments_lexer": "ipython3",
   "version": "3.5.2"
  }
 },
 "nbformat": 4,
 "nbformat_minor": 1
}
